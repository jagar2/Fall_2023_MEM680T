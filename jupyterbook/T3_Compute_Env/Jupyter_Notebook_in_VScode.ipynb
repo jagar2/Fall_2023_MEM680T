{
 "cells": [
  {
   "cell_type": "markdown",
   "metadata": {},
   "source": [
    "# Jupyter Notebooks in VS Code"
   ]
  },
  {
   "cell_type": "markdown",
   "metadata": {},
   "source": [
    "[Jupyter](https://jupyter-notebook.readthedocs.io/en/latest/) (formerly IPython Notebook) is an open-source project that lets you easily combine Markdown text and executable Python source code on one canvas called a **notebook**. Visual Studio Code supports working with Jupyter Notebooks natively, and through [Python code files](/docs/python/jupyter-support-py.md). This topic covers the native support available for Jupyter Notebooks and demonstrates how to:\n",
    "\n",
    "- Create, open, and save Jupyter Notebooks\n",
    "- Work with Jupyter code cells\n",
    "- View, inspect, and filter variables using the Variable Explorer and Data Viewer\n",
    "- Connect to a remote Jupyter server\n",
    "- Debug a Jupyter Notebook"
   ]
  },
  {
   "cell_type": "markdown",
   "metadata": {},
   "source": [
    "## Setting up your environment\n",
    "\n",
    "To work with Python in Jupyter Notebooks, you must activate an Anaconda environment in VS Code, or another Python environment in which you've installed the [Jupyter package](https://pypi.org/project/jupyter/). To select an environment, use the **Python: Select Interpreter** command from the Command Palette (`kb(workbench.action.showCommands)`)."
   ]
  },
  {
   "cell_type": "markdown",
   "metadata": {},
   "source": [
    "Once the appropriate environment is activated, you can create and open a Jupyter Notebook, connect to a remote Jupyter server for running code cells, and export a Jupyter Notebook as a Python file."
   ]
  },
  {
   "cell_type": "markdown",
   "metadata": {},
   "source": [
    "## Create or open a Jupyter Notebook\n",
    "\n",
    "You can create a Jupyter Notebook by running the **Create: New Jupyter Notebook** command from the Command Palette (`kb(workbench.action.showCommands)`) or by creating a new `.ipynb` file in your workspace."
   ]
  },
  {
   "cell_type": "markdown",
   "metadata": {},
   "source": [
    "![Blank Jupyter Notebook](images/jupyter/native-code-cells-01.png)"
   ]
  },
  {
   "cell_type": "markdown",
   "metadata": {},
   "source": [
    "Next, select a kernel using the kernel picker in the top right.\n",
    "\n",
    "![Kernel Picker](images/jupyter/native-kernel-picker.png)"
   ]
  },
  {
   "cell_type": "markdown",
   "metadata": {},
   "source": [
    "After selecting a kernel, the language picker located in the bottom right of each code cell will automatically update to the language supported by the kernel.\n",
    "\n",
    "![Language Picker](images/jupyter/native-language-picker-01.png)"
   ]
  },
  {
   "cell_type": "markdown",
   "metadata": {},
   "source": [
    "If you have an existing Jupyter Notebook, you can open it by right-clicking on the file and opening with VS Code, or through the VS Code File Explorer."
   ]
  },
  {
   "cell_type": "markdown",
   "metadata": {},
   "source": [
    "## Running cells\n",
    "\n",
    "Once you have a notebook, you can run a code cell using the **Run** icon to the left of the cell and the output will appear directly below the code cell."
   ]
  },
  {
   "cell_type": "markdown",
   "metadata": {},
   "source": [
    "To run code, you can also use keyboard shortcuts in both command and edit mode. To run the current cell, use `kbstyle(Ctrl+Enter)`. To run the current cell and advance to the next, use `kbstyle(Shift+Enter)`.\n",
    "\n",
    "![Run Jupyter code cell](images/jupyter/native-code-cells-03.png)"
   ]
  },
  {
   "cell_type": "markdown",
   "metadata": {},
   "source": [
    "You can run multiple cells by selecting **Run All**, **Run All Above**, or **Run All Below**.\n",
    "\n",
    "![Run Jupyter code cells](images/jupyter/native-code-runs.png)"
   ]
  },
  {
   "cell_type": "markdown",
   "metadata": {},
   "source": [
    "## Save your Jupyter Notebook\n",
    "\n",
    "You can save your Jupyter Notebook using the keyboard shortcut `kbstyle(Ctrl+S)` or **File** > **Save**."
   ]
  },
  {
   "cell_type": "markdown",
   "metadata": {},
   "source": [
    "## Export your Jupyter Notebook\n",
    "\n",
    "You can export a Jupyter Notebook as a Python file (`.py`), a PDF, or an HTML file. To export, select the **Export** action on the main toolbar. You'll then be presented with a dropdown of file format options.\n",
    "\n",
    " ![Convert Jupyter Notebook to Python file](images/jupyter/native-toolbar-export.png)\n",
    "\n",
    "> **Note:** For PDF export, you must have [TeX installed](https://nbconvert.readthedocs.io/en/latest/install.html#installing-tex). If you don't, you will be notified that you need to install it when you select the PDF option. Also, be aware that if you have SVG-only output in your Notebook, they will not be displayed in the PDF. To have SVG graphics in a PDF, either ensure that your output includes a non-SVG image format or else you can first export to HTML and then save as PDF using your browser."
   ]
  },
  {
   "cell_type": "markdown",
   "metadata": {},
   "source": [
    "## Work with code cells in the Notebook Editor\n",
    "\n",
    "The Notebook Editor makes it easy to create, edit, and run code cells within your Jupyter Notebook."
   ]
  },
  {
   "cell_type": "markdown",
   "metadata": {},
   "source": [
    "### Create a code cell\n",
    "\n",
    "By default, a blank notebook will have an empty code cell for you to start with and an existing notebook will place one at the bottom. Add your code to the empty code cell to get started.\n",
    "\n",
    "```python\n",
    "msg = \"Hello world\"\n",
    "print(msg)\n",
    "```"
   ]
  },
  {
   "cell_type": "code",
   "execution_count": 4,
   "metadata": {},
   "outputs": [
    {
     "name": "stdout",
     "output_type": "stream",
     "text": [
      "Hello world\n"
     ]
    }
   ],
   "source": [
    "msg = \"Hello world\"\n",
    "print(msg)"
   ]
  },
  {
   "cell_type": "markdown",
   "metadata": {},
   "source": [
    "### Code cell modes\n",
    "\n",
    "While working with code cells, a cell can be in three states: unselected, command mode, and edit mode. A vertical bar to the left of a code cell and editor border shows the current state of a cell. When no bar is visible, the cell is unselected. When a cell is selected, it can be in command mode or in edit mode."
   ]
  },
  {
   "cell_type": "markdown",
   "metadata": {},
   "source": [
    "![Unselected Jupyter code cell](images/jupyter/native-code-unselected-02.png)"
   ]
  },
  {
   "cell_type": "markdown",
   "metadata": {},
   "source": [
    "In command mode, a solid vertical bar will appear to the left of the cell. The cell can be operated on and accepts keyboard commands.\n",
    "\n",
    "![Code cell in command mode](images/jupyter/native-code-cells-02.png)"
   ]
  },
  {
   "cell_type": "markdown",
   "metadata": {},
   "source": []
  },
  {
   "cell_type": "markdown",
   "metadata": {},
   "source": [
    "In edit mode, a solid vertical bar is joined by a border around the cell editor. The cell's contents (code or Markdown) can be modified.\n",
    "\n",
    "![Code cell in edit mode](images/jupyter/native-code-cells-04.png)"
   ]
  },
  {
   "cell_type": "markdown",
   "metadata": {},
   "source": [
    "To switch modes, you can use your keyboard or mouse. On your keyboard, press the `kbstyle(Enter)` key to move to edit mode or the `kbstyle(Esc)` key to move to command mode. With your mouse, click the vertical bar to the left of the cell or out of the code/Markdown region in the code cell."
   ]
  },
  {
   "cell_type": "markdown",
   "metadata": {},
   "source": [
    "### Add additional code cells\n",
    "\n",
    "You can add code cells using the main toolbar, a cell's add cell toolbar (visible with hover), and through keyboard commands.\n",
    "\n",
    "![Add code cells](images/jupyter/native-add-cells.png)"
   ]
  },
  {
   "cell_type": "markdown",
   "metadata": {},
   "source": [
    "To add a new cell below the currently selected cell, use the plus icon in the main toolbar or a cell's hover toolbar.\n",
    "\n",
    "When a code cell is in command mode, use the `kbstyle(A)` key to add a cell above and the `kbstyle(B)` key to add a cell below the selected cell."
   ]
  },
  {
   "cell_type": "markdown",
   "metadata": {},
   "source": [
    "### Select a code cell\n",
    "\n",
    "You can change a selected code cell using the mouse or the up/down arrow keys on the keyboard. When a code cell is in command mode, you can also use the `kbstyle(J)` key (down) and `kbstyle(K)` key (up)."
   ]
  },
  {
   "cell_type": "markdown",
   "metadata": {},
   "source": [
    "### Select multiple code cells\n",
    "\n",
    "To select multiple cells, start with one cell in selected mode. A filled background indicates selected cells. To select consecutive cells, hold down the `kbstyle(Shift)` key and click the last cell you want to select. To select any group of cells, hold down the `kbstyle(Ctrl)` key and click the cells you'd like to add to your selection.\n",
    "\n",
    "![Multiselected cells](images/jupyter/multiselect.png)"
   ]
  },
  {
   "cell_type": "markdown",
   "metadata": {},
   "source": [
    "### Run a single code cell\n",
    "\n",
    "Once your code is added, you can run a cell using the **Run** icon to the left of the cell and the output will be displayed below the code cell.\n",
    "\n",
    "![Run Jupyter code cell](images/jupyter/native-code-run.png)"
   ]
  },
  {
   "cell_type": "markdown",
   "metadata": {},
   "source": [
    "To run a selected code cell, you can also use keyboard shortcuts in both command and edit mode. `kbstyle(Ctrl+Enter)` runs the currently selected cell. `kbstyle(Shift+Enter)` runs the currently selected cell and inserts a new cell immediately below (focus moves to new cell). `kbstyle(Alt+Enter)` runs the currently selected cell and inserts a new cell immediately below (focus remains on current cell)."
   ]
  },
  {
   "cell_type": "markdown",
   "metadata": {},
   "source": [
    "### Run multiple code cells\n",
    "\n",
    "Running multiple code cells can be accomplished in many ways. You can use the double arrow in the main toolbar of the Notebook Editor to run all cells within the Notebook or the **Run** icons with directional arrows in the cell toolbar to run all cells above or below the current code cell.\n",
    "\n",
    "![Run multiple code cells](images/jupyter/native-code-runs.png)"
   ]
  },
  {
   "cell_type": "markdown",
   "metadata": {},
   "source": [
    "### Move a code cell\n",
    "\n",
    "You can move cells up or down within a notebook via dragging and dropping. For code cells, the drag and drop area is to the left of the cell editor as indicated below. For rendered Markdown cells, you may click anywhere to drag and drop cells.\n",
    "\n",
    "![Move a code cell](images/jupyter/code-move.png)\n",
    "\n",
    "To move multiple cells, you can use the same drag and drop areas in any cell included in the selection.\n",
    "\n",
    "The keyboard shortcut `kbstyle(Alt+Arrow)` also moves one or multiple selected cells."
   ]
  },
  {
   "cell_type": "markdown",
   "metadata": {},
   "source": [
    "### Delete a code cell\n",
    "\n",
    "To delete code, you can use the **Delete** icon in the code cell toolbar. When the selected code cell is in command mode, you can use the keyboard shortcut `kbstyle(dd)`.\n",
    "\n",
    "![Delete a code cell](images/jupyter/native-code-delete.png)"
   ]
  },
  {
   "cell_type": "markdown",
   "metadata": {},
   "source": [
    "### Undo your last change\n",
    "\n",
    "You can use the `kbstyle(z)` key to undo your previous change, for example, if you've made an accidental edit, you can undo it to the previous correct state, or if you've deleted a cell accidentally, you can recover it."
   ]
  },
  {
   "cell_type": "markdown",
   "metadata": {},
   "source": [
    "### Switch between code and Markdown\n",
    "\n",
    "The Notebook Editor allows you to easily change code cells between Markdown and code. Selecting the language picker in the bottom right of a cell will allow you to switch between Markdown and, if applicable, any other language supported by the selected kernel.\n",
    "\n",
    "![Change language](images/jupyter/native-language-picker-01.png)\n",
    "\n",
    "You can also use the keyboard to change the cell type. When a cell is selected and in command mode, the `kbstyle(M)` key switches the cell type to Markdown and the `kbstyle(Y)` key switches the cell type to code.\n",
    "\n",
    "Once Markdown is set, you can enter Markdown formatted content to the code cell."
   ]
  },
  {
   "cell_type": "markdown",
   "metadata": {},
   "source": [
    "### Clear output or restart/interrupt the kernel\n",
    "\n",
    "If you'd like to clear all code cell outputs or restart/interrupt the kernel, you can accomplish that using the main Notebook Editor toolbar.\n",
    "\n",
    "![Notebook Toolbar](images/jupyter/notebook-toolbar.png)\n"
   ]
  },
  {
   "cell_type": "markdown",
   "metadata": {},
   "source": [
    "### Enable/disable line numbers\n",
    "\n",
    "When you are in command mode, you can enable or disable line numbering within a single code cell by using the `kbstyle(L)` key.\n",
    "\n",
    "![Line numbers enabled in code cell](images/jupyter/cell-toggle-line-num.png)\n",
    "\n",
    "To toggle line numbering for the entire notebook, use `kbstyle(Shift+L)` when in command mode on any cell.\n",
    "\n",
    "![Line numbers enabled for notebook](images/jupyter/notebook-toggle-line-num.png)"
   ]
  },
  {
   "cell_type": "markdown",
   "metadata": {},
   "source": [
    "## Table of Contents\n",
    "\n",
    "To navigate through your notebook, open the File Explorer in the Activity bar. Then open the **Outline** tab in the Side bar.\n",
    "\n",
    "![Table of contents](images/jupyter/table-of-contents.png)\n",
    "\n",
    "> **Note:** By default, the outline will only show Markdown. To show code cells, enable the following setting:  **Notebook > Outline: Show Code Cells**."
   ]
  },
  {
   "cell_type": "markdown",
   "metadata": {},
   "source": [
    "## Variable Explorer and Data Viewer\n",
    "\n",
    "Within a Python Notebook, it's possible to view, inspect, sort, and filter the variables within your current Jupyter session. By selecting the **Variables** icon in the main toolbar after running code and cells, you'll see a list of the current variables, which will automatically update as variables are used in code. The variables pane will open at the bottom of the notebook.\n",
    "\n",
    "![Variable Explorer](images/jupyter/variable-explorer-01.png)\n",
    "\n",
    "![Variable Explorer](images/jupyter/variable-explorer-02.png)"
   ]
  },
  {
   "cell_type": "markdown",
   "metadata": {},
   "source": [
    "### Data Viewer\n",
    "\n",
    "For additional information about your variables, you can also double-click a row or use the **Show variable in data viewer** button next to the variable for a more detailed view of a variable in the Data Viewer.\n",
    "\n",
    "![Data Viewer](images/jupyter/data-viewer.png)"
   ]
  },
  {
   "cell_type": "markdown",
   "metadata": {},
   "source": [
    "### Filtering rows\n",
    "\n",
    "Filtering rows in the data viewer can be done by typing in the textbox at the top of each column. Type a string you want to search for and any row that has that string in the column will be found:\n",
    "\n",
    "![Data Viewer](images/jupyter/filter-default.png)\n",
    "\n",
    "If you want to find an exact match, prefix your filter with '=':"
   ]
  },
  {
   "cell_type": "markdown",
   "metadata": {},
   "source": [
    "More complex filtering can be done by typing a [regular expression](https://developer.mozilla.org/en-US/docs/Web/JavaScript/Guide/Regular_Expressions):\n",
    "\n",
    "![Data Viewer](images/jupyter/filter-regex.png)"
   ]
  },
  {
   "cell_type": "markdown",
   "metadata": {},
   "source": [
    "## Saving plots\n",
    "\n",
    "To save a plot from your notebook, simply hover over the output and select the **Save** icon in the top right.\n",
    "\n",
    "![Save output](images/jupyter/save-output.png)\n",
    "\n",
    "> **Note:** There is support for rendering plots created with [matplotlib](https://matplotlib.org/) and [Altair](https://altair-viz.github.io/index.html)."
   ]
  },
  {
   "cell_type": "markdown",
   "metadata": {},
   "source": [
    "## Custom notebook diffing\n",
    "\n",
    "Under the hood, Jupyter Notebooks are JSON files. The segments in a JSON file are rendered as cells that are comprised of three components: input, output, and metadata. Comparing changes made in a notebook using lined-based diffing is difficult and hard to parse. The rich diffing editor for notebooks allows you to easily see changes for each component of a cell.\n",
    "\n",
    "You can even customize what types of changes you want displayed within your diffing view. In the top right, select the overflow menu item in the toolbar to customize what cell components you want included. Input differences will always be shown.\n",
    "\n",
    "![Custom notebook diffing](images/jupyter/notebook-diffing.png)\n",
    "\n",
    "To learn more about Git integration within VS Code, visit [Source Control in VS Code](/docs/sourcecontrol/overview.md)."
   ]
  },
  {
   "cell_type": "markdown",
   "metadata": {},
   "source": [
    "### Run by Line\n",
    "\n",
    "Run by Line lets you execute a cell one line at a time, without being distracted by other VS Code debug features. To start, select the **Run by Line** button in the cell toolbar:\n",
    "\n",
    "![Run by line button](images/jupyter/run-by-line.png)\n",
    "\n",
    "Use the same button to advance by one statement. You can select the cell **Stop** button to stop early, or the **Continue** button in the toolbar to continue running to the end of the cell.\n"
   ]
  },
  {
   "cell_type": "markdown",
   "metadata": {},
   "source": [
    "\n",
    "### Debug Cell\n",
    "\n",
    "If you want to use the full set of debugging features supported in VS Code, such as breakpoints and the ability to step in to other cells and modules, you can use the full VS Code debugger.\n",
    "\n",
    "1. Start by setting any breakpoints you need by clicking in the left margin of a notebook cell.\n",
    "2. Then select the **Debug Cell** button in the menu next to the **Run** button. This will run the cell in a debug session, and will pause on your breakpoints in any code that runs, even if it is in a different cell or a `.py` file.\n",
    "3. You can use the Debug view, Debug Console, and all the buttons in the Debug Toolbar as you normally would in VS Code.\n",
    "\n",
    "![Debug cell button](images/jupyter/debug-cell.png)\n"
   ]
  },
  {
   "cell_type": "markdown",
   "metadata": {},
   "source": [
    "\n",
    "### Search through notebook\n",
    "\n",
    "You can search through a notebook (or parts of it by filtering the search options) by using the keyboard shortcut `kbstyle(Ctrl/Cmd + F)`. Click the Filter option (funnel icon) to search across:\n",
    "\n",
    "- Markdown cell input (**Markdown Source**)\n",
    "- Markdown cell output (**Rendered Markdown**)\n",
    "- Code cell input (**Code Cell Source**)\n",
    "- Code cell output (**Cell Output**)\n",
    "\n",
    "Notebook searches are filtered cell inputs only by default.\n",
    "\n",
    "![Search options](images/jupyter/search-filter.png)"
   ]
  },
  {
   "cell_type": "markdown",
   "metadata": {},
   "source": [
    "## Connect to a remote Jupyter server\n",
    "\n",
    "You can offload intensive computation in a Jupyter Notebook to other computers by connecting to a remote Jupyter server. Once connected, code cells run on the remote server rather than the local computer.\n",
    "\n",
    "To connect to a remote Jupyter server:\n",
    "\n",
    "1. Open the Kernel Picker button on the top right-hand side of the notebook (or run the **Notebook: Select Notebook Kernel** command from the Command Palette).\n",
    "\n",
    "   ![Notebook kernel picker](images/jupyter/notebook-kernel-picker.png)\n",
    "\n",
    "2. Select the **Existing Jupyter Server** option to connect to an existing Jupyter server.\n",
    "\n",
    "   ![Select existing Jupyter server](images/jupyter/select-existing-server.png)\n",
    "\n",
    "3. To connect to an existing server for the first time, select **Enter the URL of the running Jupyter server**.\n",
    "\n",
    "   ![Choose to connect to an existing server](images/jupyter/select-enter-server-url.png)\n",
    "\n",
    "4. When prompted to **Enter the URL of the running Jupyter server**, provide the server's URI (hostname) with the authentication token included with a `?token=` URL parameter. (If you start the server in the VS Code terminal with an authentication token enabled, the URL with the token typically appears in the terminal output from where you can copy it.) Alternatively, you can specify a username and password after providing the URI.\n",
    "\n",
    "   ![Prompt to supply a Jupyter server URI](images/jupyter/enter-server-url.png)\n",
    "\n",
    "> **Note:** For added security, Microsoft recommends configuring your Jupyter server with security precautions such as SSL and token support. This helps ensure that requests sent to the Jupyter server are authenticated and connections to the remote server are encrypted. For guidance about securing a notebook server, refer to the [Jupyter documentation](https://jupyter-notebook.readthedocs.io/en/stable/public_server.html#securing-a-notebook-server)."
   ]
  }
 ],
 "metadata": {
  "kernelspec": {
   "display_name": "torch",
   "language": "python",
   "name": "python3"
  },
  "language_info": {
   "codemirror_mode": {
    "name": "ipython",
    "version": 3
   },
   "file_extension": ".py",
   "mimetype": "text/x-python",
   "name": "python",
   "nbconvert_exporter": "python",
   "pygments_lexer": "ipython3",
   "version": "3.10.8"
  },
  "orig_nbformat": 4
 },
 "nbformat": 4,
 "nbformat_minor": 2
}
